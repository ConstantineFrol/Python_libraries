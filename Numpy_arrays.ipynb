{
 "cells": [
  {
   "cell_type": "markdown",
   "id": "6ac4b3ae",
   "metadata": {},
   "source": [
    "# Convertion"
   ]
  },
  {
   "cell_type": "code",
   "execution_count": 20,
   "id": "322a4ea6",
   "metadata": {},
   "outputs": [],
   "source": [
    "import numpy as np"
   ]
  },
  {
   "cell_type": "markdown",
   "id": "432451b0",
   "metadata": {},
   "source": [
    "Create a list 'a'"
   ]
  },
  {
   "cell_type": "code",
   "execution_count": 21,
   "id": "dc25a737",
   "metadata": {},
   "outputs": [],
   "source": [
    "a = [i for i in range(10)]"
   ]
  },
  {
   "cell_type": "code",
   "execution_count": 22,
   "id": "e2b96f04",
   "metadata": {},
   "outputs": [
    {
     "data": {
      "text/plain": [
       "[0, 1, 2, 3, 4, 5, 6, 7, 8, 9]"
      ]
     },
     "execution_count": 22,
     "metadata": {},
     "output_type": "execute_result"
    }
   ],
   "source": [
    "a"
   ]
  },
  {
   "cell_type": "markdown",
   "id": "0593ac81",
   "metadata": {},
   "source": [
    "Create a tuple 'b'"
   ]
  },
  {
   "cell_type": "code",
   "execution_count": 23,
   "id": "5122fefe",
   "metadata": {},
   "outputs": [],
   "source": [
    "b = (0, 1, 2, 3, 4, 5, 6, 7, 8, 9)"
   ]
  },
  {
   "cell_type": "markdown",
   "id": "0852f21d",
   "metadata": {},
   "source": [
    "Convert list and tuple into np.array"
   ]
  },
  {
   "cell_type": "code",
   "execution_count": 24,
   "id": "3cb776b6",
   "metadata": {
    "scrolled": true
   },
   "outputs": [
    {
     "data": {
      "text/plain": [
       "array([0, 1, 2, 3, 4, 5, 6, 7, 8, 9])"
      ]
     },
     "execution_count": 24,
     "metadata": {},
     "output_type": "execute_result"
    }
   ],
   "source": [
    "c = np.array(a)\n",
    "c"
   ]
  },
  {
   "cell_type": "code",
   "execution_count": 25,
   "id": "2a9a9943",
   "metadata": {},
   "outputs": [
    {
     "data": {
      "text/plain": [
       "array([0, 1, 2, 3, 4, 5, 6, 7, 8, 9])"
      ]
     },
     "execution_count": 25,
     "metadata": {},
     "output_type": "execute_result"
    }
   ],
   "source": [
    "d = np.array(b)\n",
    "d"
   ]
  },
  {
   "cell_type": "markdown",
   "id": "5f6f3886",
   "metadata": {},
   "source": [
    "# Types"
   ]
  },
  {
   "cell_type": "markdown",
   "id": "36e26730",
   "metadata": {},
   "source": [
    "Check np.array type:"
   ]
  },
  {
   "cell_type": "code",
   "execution_count": 26,
   "id": "bfcce48b",
   "metadata": {},
   "outputs": [
    {
     "data": {
      "text/plain": [
       "numpy.ndarray"
      ]
     },
     "execution_count": 26,
     "metadata": {},
     "output_type": "execute_result"
    }
   ],
   "source": [
    "type(d)"
   ]
  },
  {
   "cell_type": "markdown",
   "id": "f7bfc23a",
   "metadata": {},
   "source": [
    "Data types [ float32, float64, int32, int64 ] # 64 takes more space"
   ]
  },
  {
   "cell_type": "code",
   "execution_count": null,
   "id": "eba83a2e",
   "metadata": {},
   "outputs": [],
   "source": [
    "b = np.array([1., 2., 3.], dtype = np.float32) # Or float64"
   ]
  },
  {
   "cell_type": "markdown",
   "id": "7f7743dd",
   "metadata": {},
   "source": [
    "Create specific type np.array [int/float/str]"
   ]
  },
  {
   "cell_type": "code",
   "execution_count": 27,
   "id": "3741e8f8",
   "metadata": {},
   "outputs": [],
   "source": [
    "a = [0, 1, 2, 3, 4, 5, 6, 7, 8, 9.9]"
   ]
  },
  {
   "cell_type": "code",
   "execution_count": 28,
   "id": "8cbf9f4b",
   "metadata": {},
   "outputs": [],
   "source": [
    "b = np.array(a, dtype = float)"
   ]
  },
  {
   "cell_type": "code",
   "execution_count": 29,
   "id": "c5cdb262",
   "metadata": {},
   "outputs": [
    {
     "data": {
      "text/plain": [
       "array([0. , 1. , 2. , 3. , 4. , 5. , 6. , 7. , 8. , 9.9])"
      ]
     },
     "execution_count": 29,
     "metadata": {},
     "output_type": "execute_result"
    }
   ],
   "source": [
    "b"
   ]
  },
  {
   "cell_type": "markdown",
   "id": "0323c631",
   "metadata": {},
   "source": [
    "If change type of the list a to int, all values will become whole"
   ]
  },
  {
   "cell_type": "code",
   "execution_count": 30,
   "id": "6ac60e62",
   "metadata": {},
   "outputs": [],
   "source": [
    "b = np.array(a, dtype = int)"
   ]
  },
  {
   "cell_type": "code",
   "execution_count": 31,
   "id": "7d7c65ed",
   "metadata": {},
   "outputs": [
    {
     "data": {
      "text/plain": [
       "array([0, 1, 2, 3, 4, 5, 6, 7, 8, 9])"
      ]
     },
     "execution_count": 31,
     "metadata": {},
     "output_type": "execute_result"
    }
   ],
   "source": [
    "b"
   ]
  },
  {
   "cell_type": "code",
   "execution_count": 32,
   "id": "3ddfe257",
   "metadata": {},
   "outputs": [],
   "source": [
    "b = np.array(a, dtype = str)"
   ]
  },
  {
   "cell_type": "code",
   "execution_count": 33,
   "id": "630997b8",
   "metadata": {},
   "outputs": [
    {
     "data": {
      "text/plain": [
       "array(['0', '1', '2', '3', '4', '5', '6', '7', '8', '9.9'], dtype='<U3')"
      ]
     },
     "execution_count": 33,
     "metadata": {},
     "output_type": "execute_result"
    }
   ],
   "source": [
    "b"
   ]
  },
  {
   "cell_type": "markdown",
   "id": "a70b4bc5",
   "metadata": {},
   "source": [
    "# 2D array"
   ]
  },
  {
   "cell_type": "code",
   "execution_count": 35,
   "id": "746a4149",
   "metadata": {},
   "outputs": [],
   "source": [
    "b = np.array([\n",
    "    [0, 1, 2, 3, 4, 5, 6, 7, 8, 9], \n",
    "    [10, 11, 12, 13, 14, 15, 16, 17, 18, 19], \n",
    "    [20, 21, 22, 23, 24, 25, 26, 27, 28, 29]])"
   ]
  },
  {
   "cell_type": "code",
   "execution_count": 36,
   "id": "2a8560ac",
   "metadata": {},
   "outputs": [
    {
     "data": {
      "text/plain": [
       "array([[ 0,  1,  2,  3,  4,  5,  6,  7,  8,  9],\n",
       "       [10, 11, 12, 13, 14, 15, 16, 17, 18, 19],\n",
       "       [20, 21, 22, 23, 24, 25, 26, 27, 28, 29]])"
      ]
     },
     "execution_count": 36,
     "metadata": {},
     "output_type": "execute_result"
    }
   ],
   "source": [
    "b"
   ]
  },
  {
   "cell_type": "markdown",
   "id": "cdf478b9",
   "metadata": {},
   "source": [
    "Get shape & size"
   ]
  },
  {
   "cell_type": "code",
   "execution_count": 37,
   "id": "95b35566",
   "metadata": {},
   "outputs": [
    {
     "data": {
      "text/plain": [
       "(3, 10)"
      ]
     },
     "execution_count": 37,
     "metadata": {},
     "output_type": "execute_result"
    }
   ],
   "source": [
    "b.shape"
   ]
  },
  {
   "cell_type": "code",
   "execution_count": 38,
   "id": "698670d9",
   "metadata": {},
   "outputs": [
    {
     "data": {
      "text/plain": [
       "30"
      ]
     },
     "execution_count": 38,
     "metadata": {},
     "output_type": "execute_result"
    }
   ],
   "source": [
    "b.size"
   ]
  },
  {
   "cell_type": "markdown",
   "id": "8df203de",
   "metadata": {},
   "source": [
    "Get index"
   ]
  },
  {
   "cell_type": "code",
   "execution_count": 39,
   "id": "68eddf16",
   "metadata": {},
   "outputs": [
    {
     "data": {
      "text/plain": [
       "25"
      ]
     },
     "execution_count": 39,
     "metadata": {},
     "output_type": "execute_result"
    }
   ],
   "source": [
    "b[2,5]"
   ]
  },
  {
   "cell_type": "markdown",
   "id": "fd35a399",
   "metadata": {},
   "source": [
    "Use slice"
   ]
  },
  {
   "cell_type": "code",
   "execution_count": 40,
   "id": "29a1428c",
   "metadata": {},
   "outputs": [
    {
     "data": {
      "text/plain": [
       "array([[ 0,  1,  2],\n",
       "       [10, 11, 12]])"
      ]
     },
     "execution_count": 40,
     "metadata": {},
     "output_type": "execute_result"
    }
   ],
   "source": [
    "b[0:2, 0:3]"
   ]
  },
  {
   "cell_type": "markdown",
   "id": "6fdf79f8",
   "metadata": {},
   "source": [
    "Create view  [ change 'c' this will effects 'b' ]"
   ]
  },
  {
   "cell_type": "code",
   "execution_count": 41,
   "id": "5ee461f9",
   "metadata": {},
   "outputs": [],
   "source": [
    "c = b[1:, 5:]"
   ]
  },
  {
   "cell_type": "code",
   "execution_count": 42,
   "id": "20934219",
   "metadata": {},
   "outputs": [
    {
     "data": {
      "text/plain": [
       "array([[15, 16, 17, 18, 19],\n",
       "       [25, 26, 27, 28, 29]])"
      ]
     },
     "execution_count": 42,
     "metadata": {},
     "output_type": "execute_result"
    }
   ],
   "source": [
    "c"
   ]
  },
  {
   "cell_type": "markdown",
   "id": "bed29693",
   "metadata": {},
   "source": [
    "Maka a copy of np.array [Any changes on 'c' will not effects on 'b']"
   ]
  },
  {
   "cell_type": "code",
   "execution_count": 43,
   "id": "7a6943be",
   "metadata": {},
   "outputs": [],
   "source": [
    "c = b[1:, 5:].copy()"
   ]
  },
  {
   "cell_type": "code",
   "execution_count": null,
   "id": "021b3cad",
   "metadata": {},
   "outputs": [],
   "source": []
  }
 ],
 "metadata": {
  "kernelspec": {
   "display_name": "Python 3",
   "language": "python",
   "name": "python3"
  },
  "language_info": {
   "codemirror_mode": {
    "name": "ipython",
    "version": 3
   },
   "file_extension": ".py",
   "mimetype": "text/x-python",
   "name": "python",
   "nbconvert_exporter": "python",
   "pygments_lexer": "ipython3",
   "version": "3.8.8"
  }
 },
 "nbformat": 4,
 "nbformat_minor": 5
}
