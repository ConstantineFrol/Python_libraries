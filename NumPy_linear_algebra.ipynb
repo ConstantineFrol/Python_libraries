{
 "cells": [
  {
   "cell_type": "code",
   "execution_count": 32,
   "id": "ffa8e9b6",
   "metadata": {},
   "outputs": [],
   "source": [
    "import numpy as np"
   ]
  },
  {
   "cell_type": "markdown",
   "id": "04cdf274",
   "metadata": {},
   "source": [
    "Create 2 vectors with same shape and size"
   ]
  },
  {
   "cell_type": "code",
   "execution_count": 33,
   "id": "2405b442",
   "metadata": {},
   "outputs": [],
   "source": [
    "a = np.array([0, 1, 2, 3, 4])"
   ]
  },
  {
   "cell_type": "code",
   "execution_count": 34,
   "id": "8e1a83f0",
   "metadata": {},
   "outputs": [],
   "source": [
    "b = np.array([5, 6, 7, 8, 9])"
   ]
  },
  {
   "cell_type": "markdown",
   "id": "57820af1",
   "metadata": {},
   "source": [
    "\n",
    "# SUM of vectors"
   ]
  },
  {
   "cell_type": "code",
   "execution_count": 35,
   "id": "744eb85c",
   "metadata": {},
   "outputs": [],
   "source": [
    "c = a + b # Must be the same size"
   ]
  },
  {
   "cell_type": "code",
   "execution_count": 36,
   "id": "59be2746",
   "metadata": {},
   "outputs": [
    {
     "data": {
      "text/plain": [
       "array([ 5,  7,  9, 11, 13])"
      ]
     },
     "execution_count": 36,
     "metadata": {},
     "output_type": "execute_result"
    }
   ],
   "source": [
    "c"
   ]
  },
  {
   "cell_type": "code",
   "execution_count": 37,
   "id": "26f69b9c",
   "metadata": {},
   "outputs": [],
   "source": [
    "c = np.add(a, b)"
   ]
  },
  {
   "cell_type": "code",
   "execution_count": 38,
   "id": "c4703262",
   "metadata": {},
   "outputs": [
    {
     "data": {
      "text/plain": [
       "array([ 5,  7,  9, 11, 13])"
      ]
     },
     "execution_count": 38,
     "metadata": {},
     "output_type": "execute_result"
    }
   ],
   "source": [
    "c"
   ]
  },
  {
   "cell_type": "markdown",
   "id": "0ae14b71",
   "metadata": {},
   "source": [
    "# SUBTRACT vectors"
   ]
  },
  {
   "cell_type": "code",
   "execution_count": 39,
   "id": "e9d071a6",
   "metadata": {},
   "outputs": [],
   "source": [
    "a = np.array([5, 4, 8, 4, 3])"
   ]
  },
  {
   "cell_type": "code",
   "execution_count": 40,
   "id": "a0e38fcd",
   "metadata": {},
   "outputs": [],
   "source": [
    "b = np.array([3, 5, 7, 1, 3])"
   ]
  },
  {
   "cell_type": "code",
   "execution_count": 41,
   "id": "95162117",
   "metadata": {},
   "outputs": [
    {
     "data": {
      "text/plain": [
       "array([ 2, -1,  1,  3,  0])"
      ]
     },
     "execution_count": 41,
     "metadata": {},
     "output_type": "execute_result"
    }
   ],
   "source": [
    "d = a - b # Must be the same size\n",
    "d"
   ]
  },
  {
   "cell_type": "code",
   "execution_count": 42,
   "id": "4f2cbc09",
   "metadata": {},
   "outputs": [
    {
     "data": {
      "text/plain": [
       "array([ 2, -1,  1,  3,  0])"
      ]
     },
     "execution_count": 42,
     "metadata": {},
     "output_type": "execute_result"
    }
   ],
   "source": [
    "d = np.subtract(a, b)\n",
    "d"
   ]
  },
  {
   "cell_type": "markdown",
   "id": "579a56d6",
   "metadata": {},
   "source": [
    "# MULTIPLICATION of the vectors by value"
   ]
  },
  {
   "cell_type": "code",
   "execution_count": 43,
   "id": "d48f3441",
   "metadata": {},
   "outputs": [
    {
     "data": {
      "text/plain": [
       "array([5, 4, 8, 4, 3])"
      ]
     },
     "execution_count": 43,
     "metadata": {},
     "output_type": "execute_result"
    }
   ],
   "source": [
    "a = np.array([5, 4, 8, 4, 3])\n",
    "a"
   ]
  },
  {
   "cell_type": "code",
   "execution_count": 44,
   "id": "7aab5853",
   "metadata": {},
   "outputs": [
    {
     "data": {
      "text/plain": [
       "array([10,  8, 16,  8,  6])"
      ]
     },
     "execution_count": 44,
     "metadata": {},
     "output_type": "execute_result"
    }
   ],
   "source": [
    "c = a * 2\n",
    "c"
   ]
  },
  {
   "cell_type": "code",
   "execution_count": 45,
   "id": "6b0f85a4",
   "metadata": {},
   "outputs": [
    {
     "data": {
      "text/plain": [
       "array([-50, -40, -80, -40, -30])"
      ]
     },
     "execution_count": 45,
     "metadata": {},
     "output_type": "execute_result"
    }
   ],
   "source": [
    "c = -10 * a\n",
    "c"
   ]
  },
  {
   "cell_type": "code",
   "execution_count": 46,
   "id": "f83e8a73",
   "metadata": {},
   "outputs": [
    {
     "data": {
      "text/plain": [
       "array([2.5, 2. , 4. , 2. , 1.5])"
      ]
     },
     "execution_count": 46,
     "metadata": {},
     "output_type": "execute_result"
    }
   ],
   "source": [
    "c = 0.5 * a\n",
    "c"
   ]
  },
  {
   "cell_type": "markdown",
   "id": "3781a37d",
   "metadata": {},
   "source": [
    "### Also another ways"
   ]
  },
  {
   "cell_type": "code",
   "execution_count": 47,
   "id": "2fac6a89",
   "metadata": {},
   "outputs": [
    {
     "data": {
      "text/plain": [
       "array([-50, -40, -80, -40, -30])"
      ]
     },
     "execution_count": 47,
     "metadata": {},
     "output_type": "execute_result"
    }
   ],
   "source": [
    "a.dot(-10)"
   ]
  },
  {
   "cell_type": "code",
   "execution_count": 48,
   "id": "fb46f1dd",
   "metadata": {},
   "outputs": [
    {
     "data": {
      "text/plain": [
       "array([-50, -40, -80, -40, -30])"
      ]
     },
     "execution_count": 48,
     "metadata": {},
     "output_type": "execute_result"
    }
   ],
   "source": [
    "np.dot(-10, a)"
   ]
  },
  {
   "cell_type": "code",
   "execution_count": 49,
   "id": "48bd9fa0",
   "metadata": {},
   "outputs": [
    {
     "data": {
      "text/plain": [
       "array([-50, -40, -80, -40, -30])"
      ]
     },
     "execution_count": 49,
     "metadata": {},
     "output_type": "execute_result"
    }
   ],
   "source": [
    "np.multiply(-10, a)"
   ]
  },
  {
   "cell_type": "markdown",
   "id": "eae1b7a2",
   "metadata": {},
   "source": [
    "# MULTIPLICATION of two vectors "
   ]
  },
  {
   "cell_type": "code",
   "execution_count": 50,
   "id": "29c9aeaf",
   "metadata": {},
   "outputs": [],
   "source": [
    "a = np.array([1, 2, 3])"
   ]
  },
  {
   "cell_type": "code",
   "execution_count": 51,
   "id": "c10fdbc3",
   "metadata": {},
   "outputs": [],
   "source": [
    "b = np.array([4, 5, 6])"
   ]
  },
  {
   "cell_type": "code",
   "execution_count": 52,
   "id": "4e39dd14",
   "metadata": {},
   "outputs": [
    {
     "data": {
      "text/plain": [
       "32"
      ]
     },
     "execution_count": 52,
     "metadata": {},
     "output_type": "execute_result"
    }
   ],
   "source": [
    "sp = a[0] * b[0] + a[1] * b[1] + a[2] * b[2]\n",
    "sp"
   ]
  },
  {
   "cell_type": "code",
   "execution_count": 53,
   "id": "29c165b2",
   "metadata": {},
   "outputs": [
    {
     "data": {
      "text/plain": [
       "32"
      ]
     },
     "execution_count": 53,
     "metadata": {},
     "output_type": "execute_result"
    }
   ],
   "source": [
    "a @ b"
   ]
  },
  {
   "cell_type": "code",
   "execution_count": 54,
   "id": "d16e11c4",
   "metadata": {},
   "outputs": [
    {
     "data": {
      "text/plain": [
       "32"
      ]
     },
     "execution_count": 54,
     "metadata": {},
     "output_type": "execute_result"
    }
   ],
   "source": [
    "sp = np.dot(a, b)\n",
    "sp"
   ]
  },
  {
   "cell_type": "markdown",
   "id": "9b49d247",
   "metadata": {},
   "source": [
    "# MATRIX"
   ]
  },
  {
   "cell_type": "code",
   "execution_count": 55,
   "id": "65d68899",
   "metadata": {},
   "outputs": [],
   "source": [
    "A = np.array([[0, 1], \n",
    "             [2, 3],\n",
    "             [4, 5]])"
   ]
  },
  {
   "cell_type": "code",
   "execution_count": 56,
   "id": "5a39b446",
   "metadata": {},
   "outputs": [],
   "source": [
    "B = np.array([[6, 7], \n",
    "             [8, 9],\n",
    "             [10, 11]])"
   ]
  },
  {
   "cell_type": "code",
   "execution_count": 57,
   "id": "2b069712",
   "metadata": {},
   "outputs": [
    {
     "data": {
      "text/plain": [
       "True"
      ]
     },
     "execution_count": 57,
     "metadata": {},
     "output_type": "execute_result"
    }
   ],
   "source": [
    "A.shape == B.shape"
   ]
  },
  {
   "cell_type": "markdown",
   "id": "551e531b",
   "metadata": {},
   "source": [
    "### Sum of Matrix"
   ]
  },
  {
   "cell_type": "code",
   "execution_count": 58,
   "id": "acd362d5",
   "metadata": {},
   "outputs": [
    {
     "data": {
      "text/plain": [
       "array([[ 6,  8],\n",
       "       [10, 12],\n",
       "       [14, 16]])"
      ]
     },
     "execution_count": 58,
     "metadata": {},
     "output_type": "execute_result"
    }
   ],
   "source": [
    "C = A + B\n",
    "C"
   ]
  },
  {
   "cell_type": "code",
   "execution_count": 59,
   "id": "dcdea872",
   "metadata": {},
   "outputs": [
    {
     "data": {
      "text/plain": [
       "array([[ 6,  8],\n",
       "       [10, 12],\n",
       "       [14, 16]])"
      ]
     },
     "execution_count": 59,
     "metadata": {},
     "output_type": "execute_result"
    }
   ],
   "source": [
    "C = np.add(A, B)\n",
    "C"
   ]
  },
  {
   "cell_type": "markdown",
   "id": "d0f5cced",
   "metadata": {},
   "source": [
    "### Substract Matrix"
   ]
  },
  {
   "cell_type": "code",
   "execution_count": 60,
   "id": "39e660a3",
   "metadata": {},
   "outputs": [
    {
     "data": {
      "text/plain": [
       "array([[0, 1],\n",
       "       [2, 3],\n",
       "       [4, 5]])"
      ]
     },
     "execution_count": 60,
     "metadata": {},
     "output_type": "execute_result"
    }
   ],
   "source": [
    "D = C - B\n",
    "D"
   ]
  },
  {
   "cell_type": "code",
   "execution_count": 61,
   "id": "ae7b454b",
   "metadata": {},
   "outputs": [
    {
     "data": {
      "text/plain": [
       "array([[6, 6],\n",
       "       [6, 6],\n",
       "       [6, 6]])"
      ]
     },
     "execution_count": 61,
     "metadata": {},
     "output_type": "execute_result"
    }
   ],
   "source": [
    "D = np.subtract(B, A)\n",
    "D"
   ]
  },
  {
   "cell_type": "markdown",
   "id": "ca65308a",
   "metadata": {},
   "source": [
    "### Multiplying Matrix and value"
   ]
  },
  {
   "cell_type": "code",
   "execution_count": 64,
   "id": "eb667f96",
   "metadata": {},
   "outputs": [
    {
     "data": {
      "text/plain": [
       "array([[ 3,  6],\n",
       "       [ 9, 12]])"
      ]
     },
     "execution_count": 64,
     "metadata": {},
     "output_type": "execute_result"
    }
   ],
   "source": [
    "X = np.array([[1, 2], [3, 4]])\n",
    "Y = X * 3\n",
    "Y"
   ]
  },
  {
   "cell_type": "code",
   "execution_count": 65,
   "id": "b6f273c1",
   "metadata": {},
   "outputs": [
    {
     "data": {
      "text/plain": [
       "array([[ 3,  6],\n",
       "       [ 9, 12]])"
      ]
     },
     "execution_count": 65,
     "metadata": {},
     "output_type": "execute_result"
    }
   ],
   "source": [
    "Y = np.dot(X, 3)\n",
    "Y"
   ]
  },
  {
   "cell_type": "markdown",
   "id": "80104354",
   "metadata": {},
   "source": [
    "### Matrix multiplication       # !!! matrix A qty col == matrix B qty row !!!"
   ]
  },
  {
   "cell_type": "code",
   "execution_count": 66,
   "id": "8c8f468e",
   "metadata": {},
   "outputs": [],
   "source": [
    "X1 = np.array([[1, 2], [3, 4],[5, 6]])\n",
    "X2 = np.array([[7, 8, 9, 10],[11, 12, 13, 14]])"
   ]
  },
  {
   "cell_type": "code",
   "execution_count": 68,
   "id": "317e1c9f",
   "metadata": {},
   "outputs": [
    {
     "data": {
      "text/plain": [
       "True"
      ]
     },
     "execution_count": 68,
     "metadata": {},
     "output_type": "execute_result"
    }
   ],
   "source": [
    "X1.shape[1] == X2.shape[0] # Make sure this result is True !"
   ]
  },
  {
   "cell_type": "code",
   "execution_count": 69,
   "id": "259691cd",
   "metadata": {},
   "outputs": [
    {
     "data": {
      "text/plain": [
       "((3, 2), (2, 4))"
      ]
     },
     "execution_count": 69,
     "metadata": {},
     "output_type": "execute_result"
    }
   ],
   "source": [
    "X1.shape, X2.shape"
   ]
  },
  {
   "cell_type": "code",
   "execution_count": 70,
   "id": "b086727b",
   "metadata": {},
   "outputs": [
    {
     "data": {
      "text/plain": [
       "array([[ 29,  32,  35,  38],\n",
       "       [ 65,  72,  79,  86],\n",
       "       [101, 112, 123, 134]])"
      ]
     },
     "execution_count": 70,
     "metadata": {},
     "output_type": "execute_result"
    }
   ],
   "source": [
    "Z = np.dot(X1, X2)\n",
    "Z"
   ]
  },
  {
   "cell_type": "code",
   "execution_count": 71,
   "id": "d85850e0",
   "metadata": {},
   "outputs": [
    {
     "data": {
      "text/plain": [
       "(3, 4)"
      ]
     },
     "execution_count": 71,
     "metadata": {},
     "output_type": "execute_result"
    }
   ],
   "source": [
    "Z.shape"
   ]
  },
  {
   "cell_type": "markdown",
   "id": "0563f1af",
   "metadata": {},
   "source": [
    "### Matrix in power"
   ]
  },
  {
   "cell_type": "code",
   "execution_count": 74,
   "id": "4237d001",
   "metadata": {},
   "outputs": [
    {
     "data": {
      "text/plain": [
       "array([[0, 1, 2],\n",
       "       [3, 4, 5],\n",
       "       [6, 7, 8]])"
      ]
     },
     "execution_count": 74,
     "metadata": {},
     "output_type": "execute_result"
    }
   ],
   "source": [
    "A = np.array([[0, 1, 2], [3, 4, 5], [6, 7, 8]])\n",
    "A"
   ]
  },
  {
   "cell_type": "code",
   "execution_count": 75,
   "id": "ce8d9947",
   "metadata": {},
   "outputs": [
    {
     "data": {
      "text/plain": [
       "array([[ 15,  18,  21],\n",
       "       [ 42,  54,  66],\n",
       "       [ 69,  90, 111]])"
      ]
     },
     "execution_count": 75,
     "metadata": {},
     "output_type": "execute_result"
    }
   ],
   "source": [
    "A_square = np.dot(A, A)\n",
    "A_square"
   ]
  },
  {
   "cell_type": "code",
   "execution_count": 78,
   "id": "0ec39d66",
   "metadata": {},
   "outputs": [
    {
     "data": {
      "text/plain": [
       "array([[ 15,  18,  21],\n",
       "       [ 42,  54,  66],\n",
       "       [ 69,  90, 111]])"
      ]
     },
     "execution_count": 78,
     "metadata": {},
     "output_type": "execute_result"
    }
   ],
   "source": [
    "A_square = np.linalg.matrix_power(A, 2)  #  !_power >= 0\n",
    "A_square"
   ]
  },
  {
   "cell_type": "markdown",
   "id": "4b54efa1",
   "metadata": {},
   "source": [
    "### Identity Matrix"
   ]
  },
  {
   "cell_type": "code",
   "execution_count": 79,
   "id": "756d91d2",
   "metadata": {},
   "outputs": [
    {
     "data": {
      "text/plain": [
       "array([[1., 0.],\n",
       "       [0., 1.]])"
      ]
     },
     "execution_count": 79,
     "metadata": {},
     "output_type": "execute_result"
    }
   ],
   "source": [
    "A = np.array([[1, 2], [3, 4],[5, 6]])\n",
    "I = np.eye(2)\n",
    "I"
   ]
  },
  {
   "cell_type": "markdown",
   "id": "b2407fad",
   "metadata": {},
   "source": [
    "### Multiply Identity Matrix"
   ]
  },
  {
   "cell_type": "code",
   "execution_count": 80,
   "id": "7476d3ca",
   "metadata": {},
   "outputs": [
    {
     "data": {
      "text/plain": [
       "array([[1., 2.],\n",
       "       [3., 4.],\n",
       "       [5., 6.]])"
      ]
     },
     "execution_count": 80,
     "metadata": {},
     "output_type": "execute_result"
    }
   ],
   "source": [
    "np.dot(A, I)"
   ]
  },
  {
   "cell_type": "code",
   "execution_count": 81,
   "id": "a951b33a",
   "metadata": {},
   "outputs": [
    {
     "data": {
      "text/plain": [
       "array([[1., 0., 0.],\n",
       "       [0., 1., 0.],\n",
       "       [0., 0., 1.]])"
      ]
     },
     "execution_count": 81,
     "metadata": {},
     "output_type": "execute_result"
    }
   ],
   "source": [
    "I = np.eye(3)\n",
    "I"
   ]
  },
  {
   "cell_type": "code",
   "execution_count": 83,
   "id": "5b9b39d6",
   "metadata": {},
   "outputs": [
    {
     "data": {
      "text/plain": [
       "array([[1., 2.],\n",
       "       [3., 4.],\n",
       "       [5., 6.]])"
      ]
     },
     "execution_count": 83,
     "metadata": {},
     "output_type": "execute_result"
    }
   ],
   "source": [
    "np.dot(I, A)"
   ]
  },
  {
   "cell_type": "markdown",
   "id": "9bc24bca",
   "metadata": {},
   "source": [
    "### Transpose Matrix"
   ]
  },
  {
   "cell_type": "code",
   "execution_count": 85,
   "id": "19f4fbae",
   "metadata": {},
   "outputs": [
    {
     "data": {
      "text/plain": [
       "array([[11, 16,  8],\n",
       "       [13,  9, 15]])"
      ]
     },
     "execution_count": 85,
     "metadata": {},
     "output_type": "execute_result"
    }
   ],
   "source": [
    "A = np.array([[11, 13],[16, 9],[8, 15]])\n",
    "At = A.transpose()   #   OR At = A.T\n",
    "At"
   ]
  },
  {
   "cell_type": "markdown",
   "id": "0fe931f0",
   "metadata": {},
   "source": [
    "Where to use this?\n",
    "Multiply Matrix X and Matrix Y impossible Because X.shape == Y.shape => False\n"
   ]
  },
  {
   "cell_type": "code",
   "execution_count": 86,
   "id": "1d1b3614",
   "metadata": {
    "scrolled": true
   },
   "outputs": [
    {
     "data": {
      "text/plain": [
       "False"
      ]
     },
     "execution_count": 86,
     "metadata": {},
     "output_type": "execute_result"
    }
   ],
   "source": [
    "X = np.array([[1,2],[3,4],[5,6]])\n",
    "Y = np.array([[0,1],[3,4],[6,7],[2,5]])\n",
    "X.shape == Y.shape"
   ]
  },
  {
   "cell_type": "code",
   "execution_count": 87,
   "id": "a84aa1fe",
   "metadata": {},
   "outputs": [
    {
     "data": {
      "text/plain": [
       "array([[0, 3, 6, 2],\n",
       "       [1, 4, 7, 5]])"
      ]
     },
     "execution_count": 87,
     "metadata": {},
     "output_type": "execute_result"
    }
   ],
   "source": [
    "Yt = Y.T\n",
    "Yt"
   ]
  },
  {
   "cell_type": "code",
   "execution_count": 88,
   "id": "467e9225",
   "metadata": {},
   "outputs": [
    {
     "data": {
      "text/plain": [
       "array([[ 2, 11, 20, 12],\n",
       "       [ 4, 25, 46, 26],\n",
       "       [ 6, 39, 72, 40]])"
      ]
     },
     "execution_count": 88,
     "metadata": {},
     "output_type": "execute_result"
    }
   ],
   "source": [
    "np.dot(X, Yt)"
   ]
  },
  {
   "cell_type": "markdown",
   "id": "a7857d18",
   "metadata": {},
   "source": [
    "### Matrix Rank"
   ]
  },
  {
   "cell_type": "code",
   "execution_count": 90,
   "id": "e8194ff1",
   "metadata": {},
   "outputs": [
    {
     "data": {
      "text/plain": [
       "array([[0, 1, 2],\n",
       "       [3, 4, 5],\n",
       "       [6, 7, 8]])"
      ]
     },
     "execution_count": 90,
     "metadata": {},
     "output_type": "execute_result"
    }
   ],
   "source": [
    "A = np.array([[0, 1, 2], [3, 4, 5], [6, 7, 8]])\n",
    "A"
   ]
  },
  {
   "cell_type": "code",
   "execution_count": 91,
   "id": "fc388aec",
   "metadata": {},
   "outputs": [
    {
     "data": {
      "text/plain": [
       "0.0"
      ]
     },
     "execution_count": 91,
     "metadata": {},
     "output_type": "execute_result"
    }
   ],
   "source": [
    "np.linalg.det(A)"
   ]
  },
  {
   "cell_type": "code",
   "execution_count": 92,
   "id": "d5c9fd79",
   "metadata": {},
   "outputs": [
    {
     "data": {
      "text/plain": [
       "2"
      ]
     },
     "execution_count": 92,
     "metadata": {},
     "output_type": "execute_result"
    }
   ],
   "source": [
    "np.linalg.matrix_rank(A)"
   ]
  },
  {
   "cell_type": "markdown",
   "id": "e1d1c620",
   "metadata": {},
   "source": [
    "### Inverse Matrix"
   ]
  },
  {
   "cell_type": "code",
   "execution_count": 93,
   "id": "de3f7294",
   "metadata": {},
   "outputs": [
    {
     "data": {
      "text/plain": [
       "array([[ 0.18604651,  0.02325581, -0.08139535],\n",
       "       [-0.97674419,  0.62790698,  0.30232558],\n",
       "       [ 0.72093023, -0.53488372, -0.12790698]])"
      ]
     },
     "execution_count": 93,
     "metadata": {},
     "output_type": "execute_result"
    }
   ],
   "source": [
    "B = np.array([[7, 4, 5], \n",
    "              [8, 3, 2],\n",
    "              [6, 10, 12]])\n",
    "B_inv = np.linalg.inv(B)\n",
    "B_inv"
   ]
  },
  {
   "cell_type": "markdown",
   "id": "2a051e31",
   "metadata": {},
   "source": [
    "If run again for B_inv will get first result"
   ]
  },
  {
   "cell_type": "code",
   "execution_count": 95,
   "id": "c3b3999e",
   "metadata": {},
   "outputs": [
    {
     "data": {
      "text/plain": [
       "array([[ 7.,  4.,  5.],\n",
       "       [ 8.,  3.,  2.],\n",
       "       [ 6., 10., 12.]])"
      ]
     },
     "execution_count": 95,
     "metadata": {},
     "output_type": "execute_result"
    }
   ],
   "source": [
    "B_inv2 = np.linalg.inv(B_inv)\n",
    "B_inv2"
   ]
  }
 ],
 "metadata": {
  "kernelspec": {
   "display_name": "Python 3",
   "language": "python",
   "name": "python3"
  },
  "language_info": {
   "codemirror_mode": {
    "name": "ipython",
    "version": 3
   },
   "file_extension": ".py",
   "mimetype": "text/x-python",
   "name": "python",
   "nbconvert_exporter": "python",
   "pygments_lexer": "ipython3",
   "version": "3.8.8"
  }
 },
 "nbformat": 4,
 "nbformat_minor": 5
}
