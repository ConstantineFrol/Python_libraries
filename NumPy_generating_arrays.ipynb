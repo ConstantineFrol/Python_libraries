{
 "cells": [
  {
   "cell_type": "code",
   "execution_count": 1,
   "id": "4d8ea774",
   "metadata": {},
   "outputs": [],
   "source": [
    "import numpy as np"
   ]
  },
  {
   "cell_type": "markdown",
   "id": "91dcded7",
   "metadata": {},
   "source": [
    "# Automatically creation of arrays"
   ]
  },
  {
   "cell_type": "code",
   "execution_count": 2,
   "id": "44da9bcc",
   "metadata": {},
   "outputs": [
    {
     "data": {
      "text/plain": [
       "array([[0., 0., 0., 0.],\n",
       "       [0., 0., 0., 0.],\n",
       "       [0., 0., 0., 0.]])"
      ]
     },
     "execution_count": 2,
     "metadata": {},
     "output_type": "execute_result"
    }
   ],
   "source": [
    "a = np.zeros((3,4))\n",
    "a"
   ]
  },
  {
   "cell_type": "code",
   "execution_count": 3,
   "id": "85b80bfd",
   "metadata": {},
   "outputs": [
    {
     "data": {
      "text/plain": [
       "array([[1., 1., 1.],\n",
       "       [1., 1., 1.],\n",
       "       [1., 1., 1.],\n",
       "       [1., 1., 1.],\n",
       "       [1., 1., 1.]])"
      ]
     },
     "execution_count": 3,
     "metadata": {},
     "output_type": "execute_result"
    }
   ],
   "source": [
    "a = np.ones((5, 3))\n",
    "a"
   ]
  },
  {
   "cell_type": "markdown",
   "id": "e0934a0a",
   "metadata": {},
   "source": [
    "### Arange(from, to, step)"
   ]
  },
  {
   "cell_type": "code",
   "execution_count": 8,
   "id": "85d1ed06",
   "metadata": {},
   "outputs": [
    {
     "data": {
      "text/plain": [
       "array([0, 1, 2, 3, 4, 5, 6, 7, 8, 9])"
      ]
     },
     "execution_count": 8,
     "metadata": {},
     "output_type": "execute_result"
    }
   ],
   "source": [
    "np.arange(10)   #  value 'TO' is not included"
   ]
  },
  {
   "cell_type": "code",
   "execution_count": 5,
   "id": "d7298c1d",
   "metadata": {},
   "outputs": [
    {
     "data": {
      "text/plain": [
       "array([0, 1, 2, 3, 4, 5, 6, 7, 8, 9])"
      ]
     },
     "execution_count": 5,
     "metadata": {},
     "output_type": "execute_result"
    }
   ],
   "source": [
    "np.arange(0, 10)"
   ]
  },
  {
   "cell_type": "code",
   "execution_count": 6,
   "id": "bdcf440a",
   "metadata": {},
   "outputs": [
    {
     "data": {
      "text/plain": [
       "array([0, 2, 4, 6, 8])"
      ]
     },
     "execution_count": 6,
     "metadata": {},
     "output_type": "execute_result"
    }
   ],
   "source": [
    "np.arange(0, 10, 2)"
   ]
  },
  {
   "cell_type": "code",
   "execution_count": 7,
   "id": "89a1e0cc",
   "metadata": {},
   "outputs": [
    {
     "data": {
      "text/plain": [
       "array([10,  9,  8,  7,  6,  5,  4,  3,  2,  1])"
      ]
     },
     "execution_count": 7,
     "metadata": {},
     "output_type": "execute_result"
    }
   ],
   "source": [
    "np.arange(10, 0, -1)"
   ]
  },
  {
   "cell_type": "markdown",
   "id": "a2c9a2e4",
   "metadata": {},
   "source": [
    "### numpy.linspace(from, to, step)"
   ]
  },
  {
   "cell_type": "code",
   "execution_count": 11,
   "id": "a2e122ec",
   "metadata": {},
   "outputs": [
    {
     "data": {
      "text/plain": [
       "array([0. , 0.1, 0.2, 0.3, 0.4, 0.5, 0.6, 0.7, 0.8, 0.9, 1. , 1.1, 1.2,\n",
       "       1.3, 1.4, 1.5, 1.6, 1.7, 1.8, 1.9, 2. , 2.1, 2.2, 2.3, 2.4, 2.5,\n",
       "       2.6, 2.7, 2.8, 2.9, 3. , 3.1, 3.2, 3.3, 3.4, 3.5, 3.6, 3.7, 3.8,\n",
       "       3.9, 4. , 4.1, 4.2, 4.3, 4.4, 4.5, 4.6, 4.7, 4.8, 4.9, 5. , 5.1,\n",
       "       5.2, 5.3, 5.4, 5.5, 5.6, 5.7, 5.8, 5.9, 6. , 6.1, 6.2, 6.3, 6.4,\n",
       "       6.5, 6.6, 6.7, 6.8, 6.9, 7. , 7.1, 7.2, 7.3, 7.4, 7.5, 7.6, 7.7,\n",
       "       7.8, 7.9, 8. , 8.1, 8.2, 8.3, 8.4, 8.5, 8.6, 8.7, 8.8, 8.9, 9. ,\n",
       "       9.1, 9.2, 9.3, 9.4, 9.5, 9.6, 9.7, 9.8, 9.9])"
      ]
     },
     "execution_count": 11,
     "metadata": {},
     "output_type": "execute_result"
    }
   ],
   "source": [
    "np.linspace(0, 9.9, 100)   #  value 'TO' included"
   ]
  },
  {
   "cell_type": "markdown",
   "id": "bee451f4",
   "metadata": {},
   "source": [
    "### numpy.logspace(from, to, qty)"
   ]
  },
  {
   "cell_type": "code",
   "execution_count": 13,
   "id": "2d51023d",
   "metadata": {},
   "outputs": [
    {
     "data": {
      "text/plain": [
       "array([   1.,   10.,  100., 1000.])"
      ]
     },
     "execution_count": 13,
     "metadata": {},
     "output_type": "execute_result"
    }
   ],
   "source": [
    "np.logspace(0, 3, 4)   #  from 10**0, to 10**3, 4 values"
   ]
  },
  {
   "cell_type": "markdown",
   "id": "0caeb49a",
   "metadata": {},
   "source": [
    "# Generate random numbers"
   ]
  },
  {
   "cell_type": "markdown",
   "id": "690012be",
   "metadata": {},
   "source": [
    "### numpy.random.sample   #  random numbers from 0.0 to 1.0"
   ]
  },
  {
   "cell_type": "code",
   "execution_count": 15,
   "id": "a0c179c4",
   "metadata": {},
   "outputs": [
    {
     "data": {
      "text/plain": [
       "0.7312668731602733"
      ]
     },
     "execution_count": 15,
     "metadata": {},
     "output_type": "execute_result"
    }
   ],
   "source": [
    "np.random.sample()"
   ]
  },
  {
   "cell_type": "code",
   "execution_count": 16,
   "id": "a494bc3d",
   "metadata": {},
   "outputs": [
    {
     "data": {
      "text/plain": [
       "array([0.94154714, 0.92541068, 0.35995473])"
      ]
     },
     "execution_count": 16,
     "metadata": {},
     "output_type": "execute_result"
    }
   ],
   "source": [
    "np.random.sample(3)   #  qty of value spread evenly between 0.0 and 1.0"
   ]
  },
  {
   "cell_type": "code",
   "execution_count": 17,
   "id": "9869a202",
   "metadata": {},
   "outputs": [
    {
     "data": {
      "text/plain": [
       "array([[0.61540111, 0.81288609, 0.21919451],\n",
       "       [0.07053785, 0.92757906, 0.47323346]])"
      ]
     },
     "execution_count": 17,
     "metadata": {},
     "output_type": "execute_result"
    }
   ],
   "source": [
    "np.random.sample((2, 3))   #  2D array"
   ]
  },
  {
   "cell_type": "code",
   "execution_count": 21,
   "id": "c7514df5",
   "metadata": {},
   "outputs": [
    {
     "data": {
      "text/plain": [
       "array([[[0.3269926 , 0.7947119 , 0.71002536],\n",
       "        [0.61020712, 0.82846193, 0.34508975],\n",
       "        [0.44031003, 0.94826962, 0.36249122],\n",
       "        [0.25674277, 0.00850375, 0.80572756],\n",
       "        [0.71661187, 0.96849168, 0.82310826],\n",
       "        [0.17657508, 0.31542086, 0.53553069]],\n",
       "\n",
       "       [[0.39997017, 0.96575927, 0.32397385],\n",
       "        [0.42555955, 0.81186923, 0.70778353],\n",
       "        [0.9847514 , 0.00696405, 0.27049614],\n",
       "        [0.84854534, 0.34984291, 0.65873812],\n",
       "        [0.94985758, 0.80495443, 0.00539543],\n",
       "        [0.97998767, 0.51956715, 0.52604858]],\n",
       "\n",
       "       [[0.52764484, 0.91383227, 0.95047922],\n",
       "        [0.33700278, 0.86112827, 0.10698033],\n",
       "        [0.76558409, 0.31536385, 0.33740642],\n",
       "        [0.67189645, 0.24865227, 0.90183772],\n",
       "        [0.66335697, 0.76935844, 0.90190669],\n",
       "        [0.0691033 , 0.94700149, 0.06360205]]])"
      ]
     },
     "execution_count": 21,
     "metadata": {},
     "output_type": "execute_result"
    }
   ],
   "source": [
    "np.random.sample((3, 6, 3))   #  3D array"
   ]
  },
  {
   "cell_type": "markdown",
   "id": "b569f5b8",
   "metadata": {},
   "source": [
    "### numpy.random.rand(qty)  "
   ]
  },
  {
   "cell_type": "code",
   "execution_count": 22,
   "id": "87c1b248",
   "metadata": {},
   "outputs": [
    {
     "data": {
      "text/plain": [
       "array([0.21853038, 0.70372623, 0.06466183, 0.74191286, 0.28379101,\n",
       "       0.84940676, 0.95889938, 0.43366503, 0.25743299, 0.58443443])"
      ]
     },
     "execution_count": 22,
     "metadata": {},
     "output_type": "execute_result"
    }
   ],
   "source": [
    "np.random.rand(10)   #  1D array"
   ]
  },
  {
   "cell_type": "code",
   "execution_count": 23,
   "id": "279640b3",
   "metadata": {},
   "outputs": [
    {
     "data": {
      "text/plain": [
       "array([[0.49287148, 0.68470602, 0.94799084, 0.69212157],\n",
       "       [0.27937353, 0.10455782, 0.51769724, 0.92069803],\n",
       "       [0.22462039, 0.99206272, 0.83692633, 0.0333442 ]])"
      ]
     },
     "execution_count": 23,
     "metadata": {},
     "output_type": "execute_result"
    }
   ],
   "source": [
    "np.random.rand(3, 4)   #  2D array"
   ]
  },
  {
   "cell_type": "markdown",
   "id": "d6ee0347",
   "metadata": {},
   "source": [
    "### numpy.random.randint   #  array from random whole numbers"
   ]
  },
  {
   "cell_type": "code",
   "execution_count": 24,
   "id": "2a8b2a68",
   "metadata": {},
   "outputs": [
    {
     "data": {
      "text/plain": [
       "array([47, 91, 12, 12, 19, 74, 72,  1, 89, 48])"
      ]
     },
     "execution_count": 24,
     "metadata": {},
     "output_type": "execute_result"
    }
   ],
   "source": [
    "np.random.randint(0, 100, 10)   #  (from, to, qty)"
   ]
  },
  {
   "cell_type": "code",
   "execution_count": 25,
   "id": "a1ce7626",
   "metadata": {},
   "outputs": [
    {
     "data": {
      "text/plain": [
       "array([[0, 8, 6, 7],\n",
       "       [4, 2, 1, 3],\n",
       "       [4, 3, 3, 3]])"
      ]
     },
     "execution_count": 25,
     "metadata": {},
     "output_type": "execute_result"
    }
   ],
   "source": [
    "np.random.randint(0, 10, (3, 4))   #  (from, to, (array.shape))"
   ]
  },
  {
   "cell_type": "markdown",
   "id": "09a7e22c",
   "metadata": {},
   "source": [
    "### numpy.random.choice   #  get random value from array"
   ]
  },
  {
   "cell_type": "code",
   "execution_count": 27,
   "id": "73a14d08",
   "metadata": {},
   "outputs": [
    {
     "data": {
      "text/plain": [
       "8"
      ]
     },
     "execution_count": 27,
     "metadata": {},
     "output_type": "execute_result"
    }
   ],
   "source": [
    "b = np.array([1,5,2,7,3,8,6,4])\n",
    "np.random.choice(b)"
   ]
  },
  {
   "cell_type": "code",
   "execution_count": 28,
   "id": "417cb165",
   "metadata": {},
   "outputs": [
    {
     "data": {
      "text/plain": [
       "array([8, 4, 6])"
      ]
     },
     "execution_count": 28,
     "metadata": {},
     "output_type": "execute_result"
    }
   ],
   "source": [
    "np.random.choice(b, 3)   #  (source, qty)"
   ]
  },
  {
   "cell_type": "markdown",
   "id": "f257ff2d",
   "metadata": {},
   "source": [
    "### numpy.random.seed"
   ]
  },
  {
   "cell_type": "code",
   "execution_count": 29,
   "id": "e3520be4",
   "metadata": {},
   "outputs": [
    {
     "data": {
      "text/plain": [
       "array([6, 3, 7])"
      ]
     },
     "execution_count": 29,
     "metadata": {},
     "output_type": "execute_result"
    }
   ],
   "source": [
    "np.random.seed(42)\n",
    "np.random.randint(0,10,3)"
   ]
  },
  {
   "cell_type": "markdown",
   "id": "e8b82b8b",
   "metadata": {},
   "source": [
    "### reshape()   #  Change matrix shape"
   ]
  },
  {
   "cell_type": "code",
   "execution_count": 31,
   "id": "5df91972",
   "metadata": {},
   "outputs": [
    {
     "data": {
      "text/plain": [
       "array([ 0,  1,  2,  3,  4,  5,  6,  7,  8,  9, 10, 11])"
      ]
     },
     "execution_count": 31,
     "metadata": {},
     "output_type": "execute_result"
    }
   ],
   "source": [
    "a = np.arange(12)   #  1D array\n",
    "a"
   ]
  },
  {
   "cell_type": "code",
   "execution_count": 35,
   "id": "e969c4a9",
   "metadata": {},
   "outputs": [
    {
     "data": {
      "text/plain": [
       "array([[ 0,  1,  2,  3],\n",
       "       [ 4,  5,  6,  7],\n",
       "       [ 8,  9, 10, 11]])"
      ]
     },
     "execution_count": 35,
     "metadata": {},
     "output_type": "execute_result"
    }
   ],
   "source": [
    "np.reshape(a,(3,4))  #  (source(rows, columns))"
   ]
  },
  {
   "cell_type": "markdown",
   "id": "3bdd14d0",
   "metadata": {},
   "source": [
    "When you don't know in how many columns to split"
   ]
  },
  {
   "cell_type": "code",
   "execution_count": 36,
   "id": "ed3027c7",
   "metadata": {},
   "outputs": [
    {
     "data": {
      "text/plain": [
       "array([[ 0,  1,  2,  3],\n",
       "       [ 4,  5,  6,  7],\n",
       "       [ 8,  9, 10, 11]])"
      ]
     },
     "execution_count": 36,
     "metadata": {},
     "output_type": "execute_result"
    }
   ],
   "source": [
    "np.reshape(a,(3,-1))  #  (source(rows, columns = ?))"
   ]
  },
  {
   "cell_type": "markdown",
   "id": "7b8f0473",
   "metadata": {},
   "source": [
    "### Resize Matrix"
   ]
  },
  {
   "cell_type": "code",
   "execution_count": 38,
   "id": "966d8b2d",
   "metadata": {},
   "outputs": [
    {
     "data": {
      "text/plain": [
       "array([[ 0,  1,  2,  3],\n",
       "       [ 4,  5,  6,  7],\n",
       "       [ 8,  9, 10, 11]])"
      ]
     },
     "execution_count": 38,
     "metadata": {},
     "output_type": "execute_result"
    }
   ],
   "source": [
    "a.resize(3,4)\n",
    "a"
   ]
  },
  {
   "cell_type": "markdown",
   "id": "68be5fac",
   "metadata": {},
   "source": [
    "### Flatten()"
   ]
  },
  {
   "cell_type": "code",
   "execution_count": 39,
   "id": "375c68de",
   "metadata": {},
   "outputs": [
    {
     "data": {
      "text/plain": [
       "array([ 0,  1,  2,  3,  4,  5,  6,  7,  8,  9, 10, 11])"
      ]
     },
     "execution_count": 39,
     "metadata": {},
     "output_type": "execute_result"
    }
   ],
   "source": [
    "a = a.flatten()   #  From nD array into 1D array\n",
    "a"
   ]
  },
  {
   "cell_type": "markdown",
   "id": "655f8247",
   "metadata": {},
   "source": [
    "### Concatenate Matrix vertically "
   ]
  },
  {
   "cell_type": "code",
   "execution_count": 42,
   "id": "d0c67c09",
   "metadata": {},
   "outputs": [
    {
     "data": {
      "text/plain": [
       "array([[0., 0., 0.],\n",
       "       [0., 0., 0.]])"
      ]
     },
     "execution_count": 42,
     "metadata": {},
     "output_type": "execute_result"
    }
   ],
   "source": [
    "a = np.zeros((2,3))\n",
    "a"
   ]
  },
  {
   "cell_type": "code",
   "execution_count": 44,
   "id": "8de64a97",
   "metadata": {},
   "outputs": [
    {
     "data": {
      "text/plain": [
       "array([[1., 1., 1.],\n",
       "       [1., 1., 1.]])"
      ]
     },
     "execution_count": 44,
     "metadata": {},
     "output_type": "execute_result"
    }
   ],
   "source": [
    "b = np.ones((2,3))\n",
    "b"
   ]
  },
  {
   "cell_type": "code",
   "execution_count": 45,
   "id": "caf5f606",
   "metadata": {},
   "outputs": [
    {
     "data": {
      "text/plain": [
       "array([[0., 0., 0.],\n",
       "       [0., 0., 0.],\n",
       "       [1., 1., 1.],\n",
       "       [1., 1., 1.]])"
      ]
     },
     "execution_count": 45,
     "metadata": {},
     "output_type": "execute_result"
    }
   ],
   "source": [
    "v = np.vstack((a, b))\n",
    "v"
   ]
  },
  {
   "cell_type": "code",
   "execution_count": 46,
   "id": "2a253820",
   "metadata": {},
   "outputs": [
    {
     "data": {
      "text/plain": [
       "((2, 3), (2, 3), (4, 3))"
      ]
     },
     "execution_count": 46,
     "metadata": {},
     "output_type": "execute_result"
    }
   ],
   "source": [
    "a.shape, b.shape, v.shape"
   ]
  },
  {
   "cell_type": "markdown",
   "id": "49a3ff06",
   "metadata": {},
   "source": [
    "Another way is to use concatenate()"
   ]
  },
  {
   "cell_type": "code",
   "execution_count": 47,
   "id": "59d14cf5",
   "metadata": {},
   "outputs": [
    {
     "data": {
      "text/plain": [
       "array([[0., 0., 0.],\n",
       "       [0., 0., 0.],\n",
       "       [1., 1., 1.],\n",
       "       [1., 1., 1.]])"
      ]
     },
     "execution_count": 47,
     "metadata": {},
     "output_type": "execute_result"
    }
   ],
   "source": [
    "np.concatenate((a,b), axis = 0)   #  0 - in vertical axis"
   ]
  },
  {
   "cell_type": "markdown",
   "id": "57ecc296",
   "metadata": {},
   "source": [
    "### Concatenate Matrix horizontally"
   ]
  },
  {
   "cell_type": "code",
   "execution_count": 48,
   "id": "52d63ae1",
   "metadata": {},
   "outputs": [
    {
     "data": {
      "text/plain": [
       "array([[0., 0., 0., 1., 1., 1.],\n",
       "       [0., 0., 0., 1., 1., 1.]])"
      ]
     },
     "execution_count": 48,
     "metadata": {},
     "output_type": "execute_result"
    }
   ],
   "source": [
    "h = np.hstack((a,b))\n",
    "h"
   ]
  },
  {
   "cell_type": "code",
   "execution_count": 49,
   "id": "1db60f61",
   "metadata": {},
   "outputs": [
    {
     "data": {
      "text/plain": [
       "((2, 3), (2, 3), (4, 3))"
      ]
     },
     "execution_count": 49,
     "metadata": {},
     "output_type": "execute_result"
    }
   ],
   "source": [
    "a.shape, b.shape, v.shape"
   ]
  },
  {
   "cell_type": "markdown",
   "id": "371d7dba",
   "metadata": {},
   "source": [
    "Another way is to use concatenate()"
   ]
  },
  {
   "cell_type": "code",
   "execution_count": 50,
   "id": "3033c477",
   "metadata": {},
   "outputs": [
    {
     "data": {
      "text/plain": [
       "array([[0., 0., 0., 1., 1., 1.],\n",
       "       [0., 0., 0., 1., 1., 1.]])"
      ]
     },
     "execution_count": 50,
     "metadata": {},
     "output_type": "execute_result"
    }
   ],
   "source": [
    "np.concatenate((a,b), axis = 1)   #  1 - in horizontal axis"
   ]
  },
  {
   "cell_type": "markdown",
   "id": "54485550",
   "metadata": {},
   "source": [
    "### Concatenate into a dimensional array "
   ]
  },
  {
   "cell_type": "code",
   "execution_count": 51,
   "id": "e2345969",
   "metadata": {},
   "outputs": [
    {
     "data": {
      "text/plain": [
       "array([[[0., 1.],\n",
       "        [0., 1.],\n",
       "        [0., 1.]],\n",
       "\n",
       "       [[0., 1.],\n",
       "        [0., 1.],\n",
       "        [0., 1.]]])"
      ]
     },
     "execution_count": 51,
     "metadata": {},
     "output_type": "execute_result"
    }
   ],
   "source": [
    "d = np.dstack([a,b])\n",
    "d"
   ]
  }
 ],
 "metadata": {
  "kernelspec": {
   "display_name": "Python 3",
   "language": "python",
   "name": "python3"
  },
  "language_info": {
   "codemirror_mode": {
    "name": "ipython",
    "version": 3
   },
   "file_extension": ".py",
   "mimetype": "text/x-python",
   "name": "python",
   "nbconvert_exporter": "python",
   "pygments_lexer": "ipython3",
   "version": "3.8.8"
  }
 },
 "nbformat": 4,
 "nbformat_minor": 5
}
