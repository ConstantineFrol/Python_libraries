{
 "cells": [
  {
   "cell_type": "code",
   "execution_count": 1,
   "id": "2fffff9c",
   "metadata": {},
   "outputs": [],
   "source": [
    "import pandas as pd\n",
    "import numpy as np"
   ]
  },
  {
   "cell_type": "markdown",
   "id": "139850ad",
   "metadata": {},
   "source": [
    "# Series"
   ]
  },
  {
   "cell_type": "code",
   "execution_count": 2,
   "id": "2b339674",
   "metadata": {},
   "outputs": [],
   "source": [
    "a = ([2,5,7,8,3])"
   ]
  },
  {
   "cell_type": "markdown",
   "id": "fbf988b3",
   "metadata": {},
   "source": [
    "Create object Series"
   ]
  },
  {
   "cell_type": "code",
   "execution_count": 3,
   "id": "c1d22ff6",
   "metadata": {},
   "outputs": [],
   "source": [
    "b = pd.Series(a)"
   ]
  },
  {
   "cell_type": "markdown",
   "id": "acd5a397",
   "metadata": {},
   "source": [
    "### Left side: indexes, Right side: data"
   ]
  },
  {
   "cell_type": "code",
   "execution_count": 4,
   "id": "33e399a3",
   "metadata": {},
   "outputs": [
    {
     "data": {
      "text/plain": [
       "0    2\n",
       "1    5\n",
       "2    7\n",
       "3    8\n",
       "4    3\n",
       "dtype: int64"
      ]
     },
     "execution_count": 4,
     "metadata": {},
     "output_type": "execute_result"
    }
   ],
   "source": [
    "b"
   ]
  },
  {
   "cell_type": "markdown",
   "id": "86f7f27d",
   "metadata": {},
   "source": [
    "### Get data using indexes"
   ]
  },
  {
   "cell_type": "code",
   "execution_count": 5,
   "id": "f5133339",
   "metadata": {},
   "outputs": [
    {
     "data": {
      "text/plain": [
       "0    2\n",
       "1    5\n",
       "2    7\n",
       "3    8\n",
       "4    3\n",
       "dtype: int64"
      ]
     },
     "execution_count": 5,
     "metadata": {},
     "output_type": "execute_result"
    }
   ],
   "source": [
    "b = pd.Series(a, index = [0,1,2,3,4])\n",
    "b"
   ]
  },
  {
   "cell_type": "markdown",
   "id": "91ba65fb",
   "metadata": {},
   "source": [
    "### OR using symbols"
   ]
  },
  {
   "cell_type": "code",
   "execution_count": 6,
   "id": "ba47799a",
   "metadata": {},
   "outputs": [
    {
     "data": {
      "text/plain": [
       "a    2\n",
       "b    5\n",
       "c    7\n",
       "d    8\n",
       "e    3\n",
       "dtype: int64"
      ]
     },
     "execution_count": 6,
     "metadata": {},
     "output_type": "execute_result"
    }
   ],
   "source": [
    "b = pd.Series(a, index = ['a','b','c','d','e'])\n",
    "b"
   ]
  },
  {
   "cell_type": "markdown",
   "id": "25ba71fa",
   "metadata": {},
   "source": [
    "### Use dates as index"
   ]
  },
  {
   "cell_type": "code",
   "execution_count": 7,
   "id": "f61c6417",
   "metadata": {},
   "outputs": [],
   "source": [
    "from datetime import date"
   ]
  },
  {
   "cell_type": "code",
   "execution_count": 8,
   "id": "ee15eec2",
   "metadata": {},
   "outputs": [],
   "source": [
    "ind = [date(y,m,d) for y,m,d in [(2018,1,15), (2018,1,17), (2018,1,18), (2018,1,21), (2018,1,31)]]"
   ]
  },
  {
   "cell_type": "code",
   "execution_count": 9,
   "id": "1f61041b",
   "metadata": {},
   "outputs": [
    {
     "data": {
      "text/plain": [
       "2018-01-15    2\n",
       "2018-01-17    5\n",
       "2018-01-18    7\n",
       "2018-01-21    8\n",
       "2018-01-31    3\n",
       "dtype: int64"
      ]
     },
     "execution_count": 9,
     "metadata": {},
     "output_type": "execute_result"
    }
   ],
   "source": [
    "b = pd.Series(a, index = ind)\n",
    "b"
   ]
  },
  {
   "cell_type": "markdown",
   "id": "2f04549b",
   "metadata": {},
   "source": [
    "### Show indexes of the object 'b'"
   ]
  },
  {
   "cell_type": "code",
   "execution_count": 10,
   "id": "d622935d",
   "metadata": {},
   "outputs": [
    {
     "data": {
      "text/plain": [
       "Index([2018-01-15, 2018-01-17, 2018-01-18, 2018-01-21, 2018-01-31], dtype='object')"
      ]
     },
     "execution_count": 10,
     "metadata": {},
     "output_type": "execute_result"
    }
   ],
   "source": [
    "b.index"
   ]
  },
  {
   "cell_type": "markdown",
   "id": "ecf166cf",
   "metadata": {},
   "source": [
    "### Get one item from index at a time\n"
   ]
  },
  {
   "cell_type": "code",
   "execution_count": 11,
   "id": "c2203881",
   "metadata": {},
   "outputs": [
    {
     "data": {
      "text/plain": [
       "2018"
      ]
     },
     "execution_count": 11,
     "metadata": {},
     "output_type": "execute_result"
    }
   ],
   "source": [
    "b.index[0].year"
   ]
  },
  {
   "cell_type": "code",
   "execution_count": 12,
   "id": "155842e2",
   "metadata": {},
   "outputs": [
    {
     "data": {
      "text/plain": [
       "1"
      ]
     },
     "execution_count": 12,
     "metadata": {},
     "output_type": "execute_result"
    }
   ],
   "source": [
    "b.index[0].month"
   ]
  },
  {
   "cell_type": "code",
   "execution_count": 13,
   "id": "547dd349",
   "metadata": {},
   "outputs": [
    {
     "data": {
      "text/plain": [
       "15"
      ]
     },
     "execution_count": 13,
     "metadata": {},
     "output_type": "execute_result"
    }
   ],
   "source": [
    "b.index[0].day"
   ]
  },
  {
   "cell_type": "markdown",
   "id": "86e666cc",
   "metadata": {},
   "source": [
    "### Another way to work with index datetime"
   ]
  },
  {
   "cell_type": "code",
   "execution_count": 14,
   "id": "04ce3f8b",
   "metadata": {},
   "outputs": [
    {
     "data": {
      "text/plain": [
       "DatetimeIndex(['2018-01-15', '2018-01-17', '2018-01-18', '2018-01-21',\n",
       "               '2018-01-31'],\n",
       "              dtype='datetime64[ns]', freq=None)"
      ]
     },
     "execution_count": 14,
     "metadata": {},
     "output_type": "execute_result"
    }
   ],
   "source": [
    "b.index = pd.to_datetime(b.index, format = '%Y-%m-%d')\n",
    "b.index"
   ]
  },
  {
   "cell_type": "markdown",
   "id": "acfde75a",
   "metadata": {},
   "source": [
    "### This time show list of years, months or days from index"
   ]
  },
  {
   "cell_type": "code",
   "execution_count": 15,
   "id": "918afaba",
   "metadata": {},
   "outputs": [
    {
     "data": {
      "text/plain": [
       "Int64Index([2018, 2018, 2018, 2018, 2018], dtype='int64')"
      ]
     },
     "execution_count": 15,
     "metadata": {},
     "output_type": "execute_result"
    }
   ],
   "source": [
    "b.index.year"
   ]
  },
  {
   "cell_type": "code",
   "execution_count": 16,
   "id": "4e185218",
   "metadata": {},
   "outputs": [
    {
     "data": {
      "text/plain": [
       "Int64Index([1, 1, 1, 1, 1], dtype='int64')"
      ]
     },
     "execution_count": 16,
     "metadata": {},
     "output_type": "execute_result"
    }
   ],
   "source": [
    "b.index.month"
   ]
  },
  {
   "cell_type": "code",
   "execution_count": 17,
   "id": "cd3644b6",
   "metadata": {},
   "outputs": [
    {
     "data": {
      "text/plain": [
       "Int64Index([15, 17, 18, 21, 31], dtype='int64')"
      ]
     },
     "execution_count": 17,
     "metadata": {},
     "output_type": "execute_result"
    }
   ],
   "source": [
    "b.index.day"
   ]
  },
  {
   "cell_type": "markdown",
   "id": "6156053b",
   "metadata": {},
   "source": [
    "### Index can be NOT unique"
   ]
  },
  {
   "cell_type": "code",
   "execution_count": 18,
   "id": "19d6f0d0",
   "metadata": {},
   "outputs": [
    {
     "data": {
      "text/plain": [
       "0    2\n",
       "1    5\n",
       "0    7\n",
       "2    8\n",
       "1    3\n",
       "dtype: int64"
      ]
     },
     "execution_count": 18,
     "metadata": {},
     "output_type": "execute_result"
    }
   ],
   "source": [
    "b = pd.Series(a, index = [0,1,0,2,1])\n",
    "b"
   ]
  },
  {
   "cell_type": "markdown",
   "id": "cd240eaf",
   "metadata": {},
   "source": [
    "### Indexes can be changed"
   ]
  },
  {
   "cell_type": "code",
   "execution_count": 19,
   "id": "538f24eb",
   "metadata": {},
   "outputs": [
    {
     "data": {
      "text/plain": [
       "10    2\n",
       "11    5\n",
       "12    7\n",
       "13    8\n",
       "14    3\n",
       "dtype: int64"
      ]
     },
     "execution_count": 19,
     "metadata": {},
     "output_type": "execute_result"
    }
   ],
   "source": [
    "b.index = [10,11,12,13,14]\n",
    "b"
   ]
  },
  {
   "cell_type": "markdown",
   "id": "a33d55a5",
   "metadata": {},
   "source": [
    "### Change list data type"
   ]
  },
  {
   "cell_type": "code",
   "execution_count": 20,
   "id": "a583c6d2",
   "metadata": {},
   "outputs": [
    {
     "data": {
      "text/plain": [
       "0    2.0\n",
       "1    5.0\n",
       "2    7.0\n",
       "3    8.0\n",
       "4    3.0\n",
       "dtype: float64"
      ]
     },
     "execution_count": 20,
     "metadata": {},
     "output_type": "execute_result"
    }
   ],
   "source": [
    "# series 'a' datatype was int\n",
    "b = pd.Series(a, dtype = np.float64)\n",
    "b"
   ]
  },
  {
   "cell_type": "markdown",
   "id": "cee85436",
   "metadata": {},
   "source": [
    "### Change datatype at existing Series data type"
   ]
  },
  {
   "cell_type": "code",
   "execution_count": 21,
   "id": "c744f6f7",
   "metadata": {},
   "outputs": [
    {
     "data": {
      "text/plain": [
       "0    2.0\n",
       "1    5.0\n",
       "2    7.0\n",
       "3    8.0\n",
       "4    3.0\n",
       "dtype: float64"
      ]
     },
     "execution_count": 21,
     "metadata": {},
     "output_type": "execute_result"
    }
   ],
   "source": [
    "b = pd.Series(a)\n",
    "b = b.astype(np.float64)\n",
    "b"
   ]
  },
  {
   "cell_type": "markdown",
   "id": "8f0d4fc3",
   "metadata": {},
   "source": [
    "### Create Series from Dict."
   ]
  },
  {
   "cell_type": "code",
   "execution_count": 22,
   "id": "c04fe7e7",
   "metadata": {},
   "outputs": [
    {
     "data": {
      "text/plain": [
       "1st    a\n",
       "2nd    b\n",
       "3rd    c\n",
       "4th    d\n",
       "5th    e\n",
       "dtype: object"
      ]
     },
     "execution_count": 22,
     "metadata": {},
     "output_type": "execute_result"
    }
   ],
   "source": [
    "d = {'1st': 'a','2nd': 'b','3rd': 'c','4th': 'd','5th': 'e'}\n",
    "b = pd.Series(d)\n",
    "b"
   ]
  },
  {
   "cell_type": "markdown",
   "id": "c3ae4793",
   "metadata": {},
   "source": [
    "### Show data"
   ]
  },
  {
   "cell_type": "code",
   "execution_count": 23,
   "id": "3f5afc13",
   "metadata": {},
   "outputs": [],
   "source": [
    "b = pd.Series([5,2,6,1,6,8,7])"
   ]
  },
  {
   "cell_type": "markdown",
   "id": "2ac5c52f",
   "metadata": {},
   "source": [
    "#### Show indexes"
   ]
  },
  {
   "cell_type": "code",
   "execution_count": 24,
   "id": "fe42d5a5",
   "metadata": {},
   "outputs": [
    {
     "data": {
      "text/plain": [
       "RangeIndex(start=0, stop=7, step=1)"
      ]
     },
     "execution_count": 24,
     "metadata": {},
     "output_type": "execute_result"
    }
   ],
   "source": [
    "b.index"
   ]
  },
  {
   "cell_type": "markdown",
   "id": "dd460dd2",
   "metadata": {},
   "source": [
    "#### Show data as array NumPy (ndarray)"
   ]
  },
  {
   "cell_type": "code",
   "execution_count": 25,
   "id": "bf1eb448",
   "metadata": {},
   "outputs": [
    {
     "data": {
      "text/plain": [
       "array([5, 2, 6, 1, 6, 8, 7])"
      ]
     },
     "execution_count": 25,
     "metadata": {},
     "output_type": "execute_result"
    }
   ],
   "source": [
    "b.values"
   ]
  },
  {
   "cell_type": "markdown",
   "id": "d6583c0f",
   "metadata": {},
   "source": [
    "#### Show data using indexes"
   ]
  },
  {
   "cell_type": "code",
   "execution_count": 26,
   "id": "6dd7b8fd",
   "metadata": {},
   "outputs": [
    {
     "data": {
      "text/plain": [
       "5"
      ]
     },
     "execution_count": 26,
     "metadata": {},
     "output_type": "execute_result"
    }
   ],
   "source": [
    "b[0]"
   ]
  },
  {
   "cell_type": "code",
   "execution_count": 27,
   "id": "2d31b1eb",
   "metadata": {},
   "outputs": [
    {
     "data": {
      "text/plain": [
       "0    5\n",
       "5    8\n",
       "dtype: int64"
      ]
     },
     "execution_count": 27,
     "metadata": {},
     "output_type": "execute_result"
    }
   ],
   "source": [
    "b[[0, 5]]"
   ]
  },
  {
   "cell_type": "markdown",
   "id": "c96b1ab0",
   "metadata": {},
   "source": [
    "#### Show first few elements"
   ]
  },
  {
   "cell_type": "code",
   "execution_count": 28,
   "id": "88fb95df",
   "metadata": {},
   "outputs": [
    {
     "data": {
      "text/plain": [
       "0    5\n",
       "1    2\n",
       "2    6\n",
       "dtype: int64"
      ]
     },
     "execution_count": 28,
     "metadata": {},
     "output_type": "execute_result"
    }
   ],
   "source": [
    "# From top\n",
    "b.head(3)"
   ]
  },
  {
   "cell_type": "code",
   "execution_count": 29,
   "id": "a7b3b299",
   "metadata": {},
   "outputs": [
    {
     "data": {
      "text/plain": [
       "2    6\n",
       "3    1\n",
       "4    6\n",
       "5    8\n",
       "6    7\n",
       "dtype: int64"
      ]
     },
     "execution_count": 29,
     "metadata": {},
     "output_type": "execute_result"
    }
   ],
   "source": [
    "# From end\n",
    "b.tail()   #  OR   b.tail(1)"
   ]
  },
  {
   "cell_type": "markdown",
   "id": "0230ec78",
   "metadata": {},
   "source": [
    "#### Using conditions"
   ]
  },
  {
   "cell_type": "code",
   "execution_count": 30,
   "id": "c40a6f7f",
   "metadata": {},
   "outputs": [
    {
     "data": {
      "text/plain": [
       "2    6\n",
       "4    6\n",
       "5    8\n",
       "6    7\n",
       "dtype: int64"
      ]
     },
     "execution_count": 30,
     "metadata": {},
     "output_type": "execute_result"
    }
   ],
   "source": [
    "b[b > 5]"
   ]
  },
  {
   "cell_type": "code",
   "execution_count": 31,
   "id": "8e24ba03",
   "metadata": {},
   "outputs": [
    {
     "data": {
      "text/plain": [
       "2    6\n",
       "4    6\n",
       "6    7\n",
       "dtype: int64"
      ]
     },
     "execution_count": 31,
     "metadata": {},
     "output_type": "execute_result"
    }
   ],
   "source": [
    "b[(b ==7) | (b % 3 == 0)]"
   ]
  },
  {
   "cell_type": "markdown",
   "id": "72ec42f4",
   "metadata": {},
   "source": [
    "### Change the value of the data"
   ]
  },
  {
   "cell_type": "code",
   "execution_count": 32,
   "id": "276244fb",
   "metadata": {},
   "outputs": [
    {
     "data": {
      "text/plain": [
       "0    0\n",
       "1    2\n",
       "2    6\n",
       "3    1\n",
       "4    6\n",
       "5    8\n",
       "6    7\n",
       "dtype: int64"
      ]
     },
     "execution_count": 32,
     "metadata": {},
     "output_type": "execute_result"
    }
   ],
   "source": [
    "# change first value\n",
    "b[0] = 0\n",
    "b"
   ]
  },
  {
   "cell_type": "code",
   "execution_count": 33,
   "id": "fc06f9d1",
   "metadata": {},
   "outputs": [
    {
     "data": {
      "text/plain": [
       "0    0\n",
       "1    0\n",
       "2    6\n",
       "3    0\n",
       "4    6\n",
       "5    8\n",
       "6    7\n",
       "dtype: int64"
      ]
     },
     "execution_count": 33,
     "metadata": {},
     "output_type": "execute_result"
    }
   ],
   "source": [
    "# Change data to 0 where data < 5\n",
    "b[b < 5] = 0\n",
    "b"
   ]
  },
  {
   "cell_type": "code",
   "execution_count": 34,
   "id": "896a1a7e",
   "metadata": {},
   "outputs": [
    {
     "data": {
      "text/plain": [
       "0    1\n",
       "1    1\n",
       "2    1\n",
       "3    0\n",
       "4    6\n",
       "5    8\n",
       "6    7\n",
       "dtype: int64"
      ]
     },
     "execution_count": 34,
     "metadata": {},
     "output_type": "execute_result"
    }
   ],
   "source": [
    "# Change data in specific indexes\n",
    "b[[0,1,2]] = 1\n",
    "b"
   ]
  },
  {
   "cell_type": "markdown",
   "id": "cfc7c12d",
   "metadata": {},
   "source": [
    "### Adding Series to existing Series"
   ]
  },
  {
   "cell_type": "code",
   "execution_count": 35,
   "id": "f5a1d756",
   "metadata": {},
   "outputs": [
    {
     "data": {
      "text/plain": [
       "0     1\n",
       "1     1\n",
       "2     1\n",
       "3     0\n",
       "4     6\n",
       "5     8\n",
       "6     7\n",
       "6    10\n",
       "7    15\n",
       "8    11\n",
       "9    14\n",
       "dtype: int64"
      ]
     },
     "execution_count": 35,
     "metadata": {},
     "output_type": "execute_result"
    }
   ],
   "source": [
    "# append(pd.Series({index, value}))\n",
    "b = b.append(pd.Series({6:10,7:15,8:11,9:14}))\n",
    "b"
   ]
  },
  {
   "cell_type": "markdown",
   "id": "9dbd38be",
   "metadata": {},
   "source": [
    "### Delete value using index"
   ]
  },
  {
   "cell_type": "code",
   "execution_count": 36,
   "id": "6ba3c325",
   "metadata": {},
   "outputs": [
    {
     "data": {
      "text/plain": [
       "3     0\n",
       "4     6\n",
       "5     8\n",
       "6     7\n",
       "6    10\n",
       "7    15\n",
       "8    11\n",
       "9    14\n",
       "dtype: int64"
      ]
     },
     "execution_count": 36,
     "metadata": {},
     "output_type": "execute_result"
    }
   ],
   "source": [
    "# drop(index)\n",
    "b = b.drop([0,1,2])\n",
    "b"
   ]
  },
  {
   "cell_type": "markdown",
   "id": "6d623056",
   "metadata": {},
   "source": [
    "# Save & Read data from file"
   ]
  },
  {
   "cell_type": "code",
   "execution_count": 37,
   "id": "1319d4c5",
   "metadata": {},
   "outputs": [],
   "source": [
    "# to_pickle('filename.pkl')\n",
    "b.to_pickle('b.pkl')"
   ]
  },
  {
   "cell_type": "code",
   "execution_count": 38,
   "id": "ea889ddb",
   "metadata": {},
   "outputs": [],
   "source": [
    "# read_pickle('filename.pkl')\n",
    "b2 = pd.read_pickle('b.pkl')"
   ]
  },
  {
   "cell_type": "code",
   "execution_count": 39,
   "id": "48293c8b",
   "metadata": {},
   "outputs": [
    {
     "data": {
      "text/plain": [
       "3     0\n",
       "4     6\n",
       "5     8\n",
       "6     7\n",
       "6    10\n",
       "7    15\n",
       "8    11\n",
       "9    14\n",
       "dtype: int64"
      ]
     },
     "execution_count": 39,
     "metadata": {},
     "output_type": "execute_result"
    }
   ],
   "source": [
    "b2"
   ]
  }
 ],
 "metadata": {
  "kernelspec": {
   "display_name": "Python 3",
   "language": "python",
   "name": "python3"
  },
  "language_info": {
   "codemirror_mode": {
    "name": "ipython",
    "version": 3
   },
   "file_extension": ".py",
   "mimetype": "text/x-python",
   "name": "python",
   "nbconvert_exporter": "python",
   "pygments_lexer": "ipython3",
   "version": "3.8.8"
  }
 },
 "nbformat": 4,
 "nbformat_minor": 5
}
